{
 "cells": [
  {
   "cell_type": "code",
   "execution_count": 2,
   "metadata": {
    "id": "e-AqTQjcIae-"
   },
   "outputs": [],
   "source": [
    "import numpy as np\n",
    "import pandas as pd\n",
    "import matplotlib.pyplot as plt\n",
    "import time\n",
    "import datetime\n",
    "from sklearn.ensemble import RandomForestClassifier\n",
    "from sklearn.metrics import classification_report"
   ]
  },
  {
   "cell_type": "markdown",
   "metadata": {
    "id": "5SlB7y-WFbZM"
   },
   "source": [
    "## Predict"
   ]
  },
  {
   "cell_type": "code",
   "execution_count": 3,
   "metadata": {
    "colab": {
     "base_uri": "https://localhost:8080/"
    },
    "executionInfo": {
     "elapsed": 16613,
     "status": "ok",
     "timestamp": 1712503621936,
     "user": {
      "displayName": "Filbert Owen",
      "userId": "17546973617942714743"
     },
     "user_tz": -480
    },
    "id": "aq4b2I6RKbYW",
    "outputId": "ae61c5a2-94a6-484a-8054-61c02e9b4d13",
    "scrolled": true
   },
   "outputs": [
    {
     "name": "stdout",
     "output_type": "stream",
     "text": [
      "Enter stock symbolTSLA\n"
     ]
    }
   ],
   "source": [
    "symbol = str(input(\"Enter stock symbol\"))\n",
    "period1 = int(time.mktime(datetime.datetime(1971, 2, 5, 23, 59).timetuple())) # Just let this be the starting point for the dataset\n",
    "period2 = int(time.mktime(datetime.datetime.today().timetuple()))\n",
    "interval = '1d'\n",
    "\n",
    "# Scraping the stock data \n",
    "data = f'https://query1.finance.yahoo.com/v7/finance/download/{symbol}?period1={period1}&period2={period2}&interval={interval}&events=history&includeAdjustedClose=true'"
   ]
  },
  {
   "cell_type": "code",
   "execution_count": 5,
   "metadata": {},
   "outputs": [],
   "source": [
    "def cleaning_data(symbol, dataset): # Preprocessing the dataset\n",
    "    df = pd.read_csv(dataset)\n",
    "    df.to_csv(f'{symbol}.csv')\n",
    "    df = pd.read_csv(f\"{symbol}.csv\")\n",
    "    df = df.drop([\"Unnamed: 0\", \"Adj Close\"], axis = 1)\n",
    "    df[\"Target\"] = ((df[\"Close\"] - df[\"Open\"]) > 0).astype(int)\n",
    "    df.set_index('Date', inplace = True)\n",
    "    df = df.dropna()\n",
    "    horizons = [2, 5, 60, 250, 1000]\n",
    "    predictors = []\n",
    "\n",
    "    for horizon in horizons:\n",
    "        rolling_averages = df.rolling(horizon).mean()\n",
    "\n",
    "        ratio = f\"Close_Ratio_{horizon}\"\n",
    "        df[ratio] = df[\"Close\"].shift(1) / rolling_averages[\"Close\"]\n",
    "\n",
    "        trend = f\"Trend_Ratio\"\n",
    "        df[trend] = df[\"Target\"].shift(1).rolling(horizon).sum()\n",
    "\n",
    "        predictors += [ratio, trend]\n",
    "        \n",
    "    df = df.dropna()\n",
    "    \n",
    "    return df, predictors"
   ]
  },
  {
   "cell_type": "code",
   "execution_count": 6,
   "metadata": {},
   "outputs": [],
   "source": [
    "df, predictors = cleaning_data(symbol, data)"
   ]
  },
  {
   "cell_type": "code",
   "execution_count": 7,
   "metadata": {
    "id": "412KCj7XJULI"
   },
   "outputs": [],
   "source": [
    "def predict(train, test, predictors, model): # Predicting the data\n",
    "  model.fit(train[predictors], train[\"Target\"])\n",
    "  preds = model.predict_proba(test[predictors])[:,1] \n",
    "  preds[preds >= .6] = 1\n",
    "  preds[preds < .6] = 0\n",
    "  preds = pd.Series(preds, index = test.index, name = \"Predictions\")\n",
    "  combined = pd.concat([test[\"Target\"], preds], axis = 1)\n",
    "  return combined"
   ]
  },
  {
   "cell_type": "code",
   "execution_count": 8,
   "metadata": {
    "id": "Pcmqr4lPJV5j"
   },
   "outputs": [],
   "source": [
    "def backtesting(data, model, predictors, start = 1250, step = 250): # Testing the machine learning model\n",
    "  all_preds = [] \n",
    "\n",
    "  for i in range(start, data.shape[0], step):\n",
    "    train = data.iloc[0:i].copy()\n",
    "    test = data.iloc[i:(i+step)].copy()\n",
    "    all = predict(train, test, predictors, model)\n",
    "    all_preds.append(all)\n",
    "\n",
    "  return pd.concat(all_preds)"
   ]
  },
  {
   "cell_type": "code",
   "execution_count": 9,
   "metadata": {
    "id": "xcW96MZRJvSM"
   },
   "outputs": [],
   "source": [
    "RFC_model = RandomForestClassifier(n_estimators = 200, min_samples_split = 50, random_state = 1) # Machine learning model"
   ]
  },
  {
   "cell_type": "code",
   "execution_count": 11,
   "metadata": {
    "id": "5C8Tx1ANJwji"
   },
   "outputs": [],
   "source": [
    "predictions = backtesting(df, RFC_model, predictors)"
   ]
  },
  {
   "cell_type": "code",
   "execution_count": 13,
   "metadata": {
    "colab": {
     "base_uri": "https://localhost:8080/"
    },
    "executionInfo": {
     "elapsed": 4,
     "status": "ok",
     "timestamp": 1712503657024,
     "user": {
      "displayName": "Filbert Owen",
      "userId": "17546973617942714743"
     },
     "user_tz": -480
    },
    "id": "v95GIQoiJ6CY",
    "outputId": "dd34986e-c60a-4edd-8347-8b44c6ea700e"
   },
   "outputs": [
    {
     "data": {
      "text/plain": [
       "Predictions\n",
       "0.0    795\n",
       "1.0    463\n",
       "Name: count, dtype: int64"
      ]
     },
     "execution_count": 13,
     "metadata": {},
     "output_type": "execute_result"
    }
   ],
   "source": [
    "predictions[\"Predictions\"].value_counts()"
   ]
  },
  {
   "cell_type": "code",
   "execution_count": 14,
   "metadata": {
    "colab": {
     "base_uri": "https://localhost:8080/",
     "height": 455
    },
    "executionInfo": {
     "elapsed": 338,
     "status": "ok",
     "timestamp": 1712503657360,
     "user": {
      "displayName": "Filbert Owen",
      "userId": "17546973617942714743"
     },
     "user_tz": -480
    },
    "id": "I0YShTmCK_AW",
    "outputId": "1999e3cd-4fb1-4a88-f5c1-78bdeebc44a1",
    "scrolled": true
   },
   "outputs": [
    {
     "data": {
      "text/html": [
       "<div>\n",
       "<style scoped>\n",
       "    .dataframe tbody tr th:only-of-type {\n",
       "        vertical-align: middle;\n",
       "    }\n",
       "\n",
       "    .dataframe tbody tr th {\n",
       "        vertical-align: top;\n",
       "    }\n",
       "\n",
       "    .dataframe thead th {\n",
       "        text-align: right;\n",
       "    }\n",
       "</style>\n",
       "<table border=\"1\" class=\"dataframe\">\n",
       "  <thead>\n",
       "    <tr style=\"text-align: right;\">\n",
       "      <th></th>\n",
       "      <th>Target</th>\n",
       "      <th>Predictions</th>\n",
       "    </tr>\n",
       "    <tr>\n",
       "      <th>Date</th>\n",
       "      <th></th>\n",
       "      <th></th>\n",
       "    </tr>\n",
       "  </thead>\n",
       "  <tbody>\n",
       "    <tr>\n",
       "      <th>2019-06-07</th>\n",
       "      <td>0</td>\n",
       "      <td>0.0</td>\n",
       "    </tr>\n",
       "    <tr>\n",
       "      <th>2019-06-10</th>\n",
       "      <td>1</td>\n",
       "      <td>1.0</td>\n",
       "    </tr>\n",
       "    <tr>\n",
       "      <th>2019-06-11</th>\n",
       "      <td>0</td>\n",
       "      <td>1.0</td>\n",
       "    </tr>\n",
       "    <tr>\n",
       "      <th>2019-06-12</th>\n",
       "      <td>0</td>\n",
       "      <td>0.0</td>\n",
       "    </tr>\n",
       "    <tr>\n",
       "      <th>2019-06-13</th>\n",
       "      <td>1</td>\n",
       "      <td>1.0</td>\n",
       "    </tr>\n",
       "    <tr>\n",
       "      <th>...</th>\n",
       "      <td>...</td>\n",
       "      <td>...</td>\n",
       "    </tr>\n",
       "    <tr>\n",
       "      <th>2024-05-30</th>\n",
       "      <td>1</td>\n",
       "      <td>1.0</td>\n",
       "    </tr>\n",
       "    <tr>\n",
       "      <th>2024-05-31</th>\n",
       "      <td>0</td>\n",
       "      <td>0.0</td>\n",
       "    </tr>\n",
       "    <tr>\n",
       "      <th>2024-06-03</th>\n",
       "      <td>0</td>\n",
       "      <td>0.0</td>\n",
       "    </tr>\n",
       "    <tr>\n",
       "      <th>2024-06-04</th>\n",
       "      <td>0</td>\n",
       "      <td>0.0</td>\n",
       "    </tr>\n",
       "    <tr>\n",
       "      <th>2024-06-05</th>\n",
       "      <td>1</td>\n",
       "      <td>1.0</td>\n",
       "    </tr>\n",
       "  </tbody>\n",
       "</table>\n",
       "<p>1258 rows × 2 columns</p>\n",
       "</div>"
      ],
      "text/plain": [
       "            Target  Predictions\n",
       "Date                           \n",
       "2019-06-07       0          0.0\n",
       "2019-06-10       1          1.0\n",
       "2019-06-11       0          1.0\n",
       "2019-06-12       0          0.0\n",
       "2019-06-13       1          1.0\n",
       "...            ...          ...\n",
       "2024-05-30       1          1.0\n",
       "2024-05-31       0          0.0\n",
       "2024-06-03       0          0.0\n",
       "2024-06-04       0          0.0\n",
       "2024-06-05       1          1.0\n",
       "\n",
       "[1258 rows x 2 columns]"
      ]
     },
     "execution_count": 14,
     "metadata": {},
     "output_type": "execute_result"
    }
   ],
   "source": [
    "predictions"
   ]
  },
  {
   "cell_type": "code",
   "execution_count": 15,
   "metadata": {
    "colab": {
     "base_uri": "https://localhost:8080/"
    },
    "executionInfo": {
     "elapsed": 8,
     "status": "ok",
     "timestamp": 1712503657361,
     "user": {
      "displayName": "Filbert Owen",
      "userId": "17546973617942714743"
     },
     "user_tz": -480
    },
    "id": "2DdvJixBJ7p0",
    "outputId": "76a04212-01a2-4658-d20f-96664fa778ea"
   },
   "outputs": [
    {
     "name": "stdout",
     "output_type": "stream",
     "text": [
      "              precision    recall  f1-score   support\n",
      "\n",
      "           0       0.69      0.89      0.77       617\n",
      "           1       0.85      0.61      0.71       641\n",
      "\n",
      "    accuracy                           0.75      1258\n",
      "   macro avg       0.77      0.75      0.74      1258\n",
      "weighted avg       0.77      0.75      0.74      1258\n",
      "\n"
     ]
    }
   ],
   "source": [
    "print(classification_report(predictions[\"Target\"], predictions[\"Predictions\"]))"
   ]
  },
  {
   "cell_type": "code",
   "execution_count": 18,
   "metadata": {
    "colab": {
     "base_uri": "https://localhost:8080/"
    },
    "executionInfo": {
     "elapsed": 7,
     "status": "ok",
     "timestamp": 1712503657361,
     "user": {
      "displayName": "Filbert Owen",
      "userId": "17546973617942714743"
     },
     "user_tz": -480
    },
    "id": "jdDbV-RSJ-bS",
    "outputId": "1c3b9fdd-1a9c-4dc0-fcb7-a6dfeba2d237"
   },
   "outputs": [
    {
     "name": "stdout",
     "output_type": "stream",
     "text": [
      "Tomorrow's price is predicted to go up.\n"
     ]
    }
   ],
   "source": [
    "tomorrow_data = df.iloc[[-1]]\n",
    "tomorrow_prediction = RFC_model.predict(tomorrow_data[predictors])\n",
    "# Result of the prediction\n",
    "if tomorrow_prediction == 1:\n",
    "    print(\"Tomorrow's price is predicted to go up.\")\n",
    "else:\n",
    "    print(\"Tomorrow's price is predicted to go down.\")"
   ]
  },
  {
   "cell_type": "code",
   "execution_count": null,
   "metadata": {},
   "outputs": [],
   "source": []
  }
 ],
 "metadata": {
  "colab": {
   "authorship_tag": "ABX9TyOGoUt7zesLKNt9kSNGojMD",
   "provenance": []
  },
  "kernelspec": {
   "display_name": "Python 3",
   "language": "python",
   "name": "python3"
  },
  "language_info": {
   "codemirror_mode": {
    "name": "ipython",
    "version": 3
   },
   "file_extension": ".py",
   "mimetype": "text/x-python",
   "name": "python",
   "nbconvert_exporter": "python",
   "pygments_lexer": "ipython3",
   "version": "3.11.7"
  }
 },
 "nbformat": 4,
 "nbformat_minor": 1
}
