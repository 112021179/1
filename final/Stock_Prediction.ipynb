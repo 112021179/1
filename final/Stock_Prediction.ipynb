{
 "cells": [
  {
   "cell_type": "code",
   "execution_count": 1,
   "metadata": {
    "id": "e-AqTQjcIae-"
   },
   "outputs": [],
   "source": [
    "import numpy as np\n",
    "import pandas as pd\n",
    "import matplotlib.pyplot as plt\n",
    "import time\n",
    "import datetime\n",
    "from sklearn.ensemble import RandomForestClassifier\n",
    "from sklearn.metrics import classification_report\n",
    "import requests\n",
    "from bs4 import BeautifulSoup\n",
    "import csv"
   ]
  },
  {
   "cell_type": "code",
   "execution_count": 88,
   "metadata": {
    "id": "y1Axl1N-IJE0"
   },
   "outputs": [],
   "source": [
    "def scrape_stock_info(stock_symbol):\n",
    "    url = f\"https://finance.yahoo.com/quote/{stock_symbol}\"\n",
    "\n",
    "    response = requests.get(url)\n",
    "\n",
    "    if response.status_code == 200:\n",
    "        soup = BeautifulSoup(response.content, 'html.parser')\n",
    "\n",
    "        price_element = soup.find('fin-streamer', class_='livePrice svelte-mgkamr')\n",
    "        price = price_element.text.strip() if price_element else None\n",
    "\n",
    "        name_element = soup.find('h1', class_ =\"svelte-3a2v0c\")\n",
    "        name = name_element.text.strip() if name_element else None\n",
    "\n",
    "        return {'Stock Name': name, 'Stock Price': price}\n",
    "    else:\n",
    "        print(f\"Error: Failed to retrieve webpage for stock symbol {stock_symbol}\")\n",
    "        return None"
   ]
  },
  {
   "cell_type": "code",
   "execution_count": 89,
   "metadata": {
    "id": "oTKVRaBCIbGc"
   },
   "outputs": [],
   "source": [
    "def save_to_csv(data, filename):\n",
    "    with open(filename, 'w', newline='') as csvfile:\n",
    "        writer = csv.DictWriter(csvfile, fieldnames=data.keys())\n",
    "        writer.writeheader()\n",
    "        writer.writerow(data)"
   ]
  },
  {
   "cell_type": "code",
   "execution_count": 90,
   "metadata": {
    "colab": {
     "base_uri": "https://localhost:8080/"
    },
    "executionInfo": {
     "elapsed": 5756,
     "status": "ok",
     "timestamp": 1712503413620,
     "user": {
      "displayName": "Filbert Owen",
      "userId": "17546973617942714743"
     },
     "user_tz": -480
    },
    "id": "omnNS2ADIecT",
    "outputId": "c1538168-b5d3-4f6f-e048-0032dd8d8371"
   },
   "outputs": [
    {
     "name": "stdout",
     "output_type": "stream",
     "text": [
      "Enter the stock symbol(): TSLA\n",
      "Stock information for TSLA has been saved to TSLA_data.csv\n"
     ]
    }
   ],
   "source": [
    "symbol = str(input(\"Enter the stock symbol(): \"))\n",
    "symbols = (symbol.upper()).split(\" \")\n",
    "for s in symbols:\n",
    "    stock_data = scrape_stock_info(s)\n",
    "    if stock_data:\n",
    "        save_to_csv(stock_data, f\"{s}_data.csv\")\n",
    "        print(f\"Stock information for {s} has been saved to {s}_data.csv\")\n",
    "    else:\n",
    "        print(f\"There is no stock information for {s}\")"
   ]
  },
  {
   "cell_type": "markdown",
   "metadata": {
    "id": "5SlB7y-WFbZM"
   },
   "source": [
    "## Predict"
   ]
  },
  {
   "cell_type": "code",
   "execution_count": 5,
   "metadata": {
    "colab": {
     "base_uri": "https://localhost:8080/"
    },
    "executionInfo": {
     "elapsed": 16613,
     "status": "ok",
     "timestamp": 1712503621936,
     "user": {
      "displayName": "Filbert Owen",
      "userId": "17546973617942714743"
     },
     "user_tz": -480
    },
    "id": "aq4b2I6RKbYW",
    "outputId": "ae61c5a2-94a6-484a-8054-61c02e9b4d13",
    "scrolled": true
   },
   "outputs": [
    {
     "name": "stdout",
     "output_type": "stream",
     "text": [
      "Enter stock symbolTSLA\n"
     ]
    }
   ],
   "source": [
    "symbol = str(input(\"Enter stock symbol\"))\n",
    "period1 = int(time.mktime(datetime.datetime(1971, 2, 5, 23, 59).timetuple()))\n",
    "period2 = int(time.mktime(datetime.datetime.today().timetuple()))\n",
    "interval = '1d'\n",
    "\n",
    "query_string = f'https://query1.finance.yahoo.com/v7/finance/download/{symbol}?period1={period1}&period2={period2}&interval={interval}&events=history&includeAdjustedClose=true'"
   ]
  },
  {
   "cell_type": "code",
   "execution_count": 59,
   "metadata": {
    "id": "CtIjb4PyI18D"
   },
   "outputs": [],
   "source": [
    "df = pd.read_csv(query_string)\n",
    "# print(df)\n",
    "df.to_csv(f'{symbol}.csv')"
   ]
  },
  {
   "cell_type": "code",
   "execution_count": 60,
   "metadata": {
    "colab": {
     "base_uri": "https://localhost:8080/",
     "height": 423
    },
    "executionInfo": {
     "elapsed": 358,
     "status": "ok",
     "timestamp": 1712503626537,
     "user": {
      "displayName": "Filbert Owen",
      "userId": "17546973617942714743"
     },
     "user_tz": -480
    },
    "id": "d-KxjEYjJCpZ",
    "outputId": "7ab2b778-90e3-4395-9492-1ea5dd0e7161"
   },
   "outputs": [
    {
     "data": {
      "text/html": [
       "<div>\n",
       "<style scoped>\n",
       "    .dataframe tbody tr th:only-of-type {\n",
       "        vertical-align: middle;\n",
       "    }\n",
       "\n",
       "    .dataframe tbody tr th {\n",
       "        vertical-align: top;\n",
       "    }\n",
       "\n",
       "    .dataframe thead th {\n",
       "        text-align: right;\n",
       "    }\n",
       "</style>\n",
       "<table border=\"1\" class=\"dataframe\">\n",
       "  <thead>\n",
       "    <tr style=\"text-align: right;\">\n",
       "      <th></th>\n",
       "      <th>Date</th>\n",
       "      <th>Open</th>\n",
       "      <th>High</th>\n",
       "      <th>Low</th>\n",
       "      <th>Close</th>\n",
       "      <th>Adj Close</th>\n",
       "      <th>Volume</th>\n",
       "    </tr>\n",
       "  </thead>\n",
       "  <tbody>\n",
       "    <tr>\n",
       "      <th>0</th>\n",
       "      <td>2010-06-29</td>\n",
       "      <td>1.266667</td>\n",
       "      <td>1.666667</td>\n",
       "      <td>1.169333</td>\n",
       "      <td>1.592667</td>\n",
       "      <td>1.592667</td>\n",
       "      <td>281494500</td>\n",
       "    </tr>\n",
       "    <tr>\n",
       "      <th>1</th>\n",
       "      <td>2010-06-30</td>\n",
       "      <td>1.719333</td>\n",
       "      <td>2.028000</td>\n",
       "      <td>1.553333</td>\n",
       "      <td>1.588667</td>\n",
       "      <td>1.588667</td>\n",
       "      <td>257806500</td>\n",
       "    </tr>\n",
       "    <tr>\n",
       "      <th>2</th>\n",
       "      <td>2010-07-01</td>\n",
       "      <td>1.666667</td>\n",
       "      <td>1.728000</td>\n",
       "      <td>1.351333</td>\n",
       "      <td>1.464000</td>\n",
       "      <td>1.464000</td>\n",
       "      <td>123282000</td>\n",
       "    </tr>\n",
       "    <tr>\n",
       "      <th>3</th>\n",
       "      <td>2010-07-02</td>\n",
       "      <td>1.533333</td>\n",
       "      <td>1.540000</td>\n",
       "      <td>1.247333</td>\n",
       "      <td>1.280000</td>\n",
       "      <td>1.280000</td>\n",
       "      <td>77097000</td>\n",
       "    </tr>\n",
       "    <tr>\n",
       "      <th>4</th>\n",
       "      <td>2010-07-06</td>\n",
       "      <td>1.333333</td>\n",
       "      <td>1.333333</td>\n",
       "      <td>1.055333</td>\n",
       "      <td>1.074000</td>\n",
       "      <td>1.074000</td>\n",
       "      <td>103003500</td>\n",
       "    </tr>\n",
       "    <tr>\n",
       "      <th>...</th>\n",
       "      <td>...</td>\n",
       "      <td>...</td>\n",
       "      <td>...</td>\n",
       "      <td>...</td>\n",
       "      <td>...</td>\n",
       "      <td>...</td>\n",
       "      <td>...</td>\n",
       "    </tr>\n",
       "    <tr>\n",
       "      <th>3502</th>\n",
       "      <td>2024-05-29</td>\n",
       "      <td>174.190002</td>\n",
       "      <td>178.149994</td>\n",
       "      <td>173.929993</td>\n",
       "      <td>176.190002</td>\n",
       "      <td>176.190002</td>\n",
       "      <td>54782600</td>\n",
       "    </tr>\n",
       "    <tr>\n",
       "      <th>3503</th>\n",
       "      <td>2024-05-30</td>\n",
       "      <td>178.580002</td>\n",
       "      <td>182.669998</td>\n",
       "      <td>175.380005</td>\n",
       "      <td>178.789993</td>\n",
       "      <td>178.789993</td>\n",
       "      <td>77784800</td>\n",
       "    </tr>\n",
       "    <tr>\n",
       "      <th>3504</th>\n",
       "      <td>2024-05-31</td>\n",
       "      <td>178.500000</td>\n",
       "      <td>180.320007</td>\n",
       "      <td>173.820007</td>\n",
       "      <td>178.080002</td>\n",
       "      <td>178.080002</td>\n",
       "      <td>67314600</td>\n",
       "    </tr>\n",
       "    <tr>\n",
       "      <th>3505</th>\n",
       "      <td>2024-06-03</td>\n",
       "      <td>178.130005</td>\n",
       "      <td>182.639999</td>\n",
       "      <td>174.490005</td>\n",
       "      <td>176.289993</td>\n",
       "      <td>176.289993</td>\n",
       "      <td>68568900</td>\n",
       "    </tr>\n",
       "    <tr>\n",
       "      <th>3506</th>\n",
       "      <td>2024-06-04</td>\n",
       "      <td>174.779999</td>\n",
       "      <td>177.759995</td>\n",
       "      <td>174.000000</td>\n",
       "      <td>174.770004</td>\n",
       "      <td>174.770004</td>\n",
       "      <td>59733200</td>\n",
       "    </tr>\n",
       "  </tbody>\n",
       "</table>\n",
       "<p>3507 rows × 7 columns</p>\n",
       "</div>"
      ],
      "text/plain": [
       "            Date        Open        High         Low       Close   Adj Close  \\\n",
       "0     2010-06-29    1.266667    1.666667    1.169333    1.592667    1.592667   \n",
       "1     2010-06-30    1.719333    2.028000    1.553333    1.588667    1.588667   \n",
       "2     2010-07-01    1.666667    1.728000    1.351333    1.464000    1.464000   \n",
       "3     2010-07-02    1.533333    1.540000    1.247333    1.280000    1.280000   \n",
       "4     2010-07-06    1.333333    1.333333    1.055333    1.074000    1.074000   \n",
       "...          ...         ...         ...         ...         ...         ...   \n",
       "3502  2024-05-29  174.190002  178.149994  173.929993  176.190002  176.190002   \n",
       "3503  2024-05-30  178.580002  182.669998  175.380005  178.789993  178.789993   \n",
       "3504  2024-05-31  178.500000  180.320007  173.820007  178.080002  178.080002   \n",
       "3505  2024-06-03  178.130005  182.639999  174.490005  176.289993  176.289993   \n",
       "3506  2024-06-04  174.779999  177.759995  174.000000  174.770004  174.770004   \n",
       "\n",
       "         Volume  \n",
       "0     281494500  \n",
       "1     257806500  \n",
       "2     123282000  \n",
       "3      77097000  \n",
       "4     103003500  \n",
       "...         ...  \n",
       "3502   54782600  \n",
       "3503   77784800  \n",
       "3504   67314600  \n",
       "3505   68568900  \n",
       "3506   59733200  \n",
       "\n",
       "[3507 rows x 7 columns]"
      ]
     },
     "execution_count": 60,
     "metadata": {},
     "output_type": "execute_result"
    }
   ],
   "source": [
    "df = pd.read_csv(f\"{symbol}.csv\")\n",
    "del df[\"Unnamed: 0\"]\n",
    "df"
   ]
  },
  {
   "cell_type": "code",
   "execution_count": 61,
   "metadata": {
    "colab": {
     "base_uri": "https://localhost:8080/",
     "height": 466
    },
    "executionInfo": {
     "elapsed": 1007,
     "status": "ok",
     "timestamp": 1712503632206,
     "user": {
      "displayName": "Filbert Owen",
      "userId": "17546973617942714743"
     },
     "user_tz": -480
    },
    "id": "N9OycpsfJJFc",
    "outputId": "48ac46b6-bd17-4747-85c3-02c5abd7b2fe"
   },
   "outputs": [
    {
     "data": {
      "text/plain": [
       "<Axes: xlabel='Date'>"
      ]
     },
     "execution_count": 61,
     "metadata": {},
     "output_type": "execute_result"
    },
    {
     "data": {
      "image/png": "[encoded data removed]",
      "text/plain": [
       "<Figure size 640x480 with 1 Axes>"
      ]
     },
     "metadata": {},
     "output_type": "display_data"
    }
   ],
   "source": [
    "df.plot.line(x = \"Date\", y = \"Close\")"
   ]
  },
  {
   "cell_type": "code",
   "execution_count": 62,
   "metadata": {
    "id": "a0Er_OU-JKgU"
   },
   "outputs": [],
   "source": [
    "del df[\"Adj Close\"]\n",
    "df[\"Target-3\"] = df[\"Close\"].shift(3)\n",
    "df[\"Target-2\"] = df[\"Close\"].shift(2)\n",
    "df[\"Target-1\"] = df[\"Close\"].shift(1)\n",
    "df[\"Target\"] = ((df[\"Close\"] - df[\"Open\"]) > 0).astype(int)\n",
    "df.set_index('Date', inplace = True)\n",
    "df = df.dropna()"
   ]
  },
  {
   "cell_type": "code",
   "execution_count": 63,
   "metadata": {
    "id": "xv8e03TnJfJ3"
   },
   "outputs": [
    {
     "name": "stderr",
     "output_type": "stream",
     "text": [
      "C:\\Users\\owen\\AppData\\Local\\Temp\\ipykernel_4976\\1596686111.py:8: SettingWithCopyWarning: \n",
      "A value is trying to be set on a copy of a slice from a DataFrame.\n",
      "Try using .loc[row_indexer,col_indexer] = value instead\n",
      "\n",
      "See the caveats in the documentation: https://pandas.pydata.org/pandas-docs/stable/user_guide/indexing.html#returning-a-view-versus-a-copy\n",
      "  df[ratio] = df[\"Close\"].shift(1) / rolling_averages[\"Close\"]\n",
      "C:\\Users\\owen\\AppData\\Local\\Temp\\ipykernel_4976\\1596686111.py:11: SettingWithCopyWarning: \n",
      "A value is trying to be set on a copy of a slice from a DataFrame.\n",
      "Try using .loc[row_indexer,col_indexer] = value instead\n",
      "\n",
      "See the caveats in the documentation: https://pandas.pydata.org/pandas-docs/stable/user_guide/indexing.html#returning-a-view-versus-a-copy\n",
      "  df[trend] = df[\"Target\"].shift(1).rolling(horizon).sum()\n",
      "C:\\Users\\owen\\AppData\\Local\\Temp\\ipykernel_4976\\1596686111.py:8: SettingWithCopyWarning: \n",
      "A value is trying to be set on a copy of a slice from a DataFrame.\n",
      "Try using .loc[row_indexer,col_indexer] = value instead\n",
      "\n",
      "See the caveats in the documentation: https://pandas.pydata.org/pandas-docs/stable/user_guide/indexing.html#returning-a-view-versus-a-copy\n",
      "  df[ratio] = df[\"Close\"].shift(1) / rolling_averages[\"Close\"]\n",
      "C:\\Users\\owen\\AppData\\Local\\Temp\\ipykernel_4976\\1596686111.py:11: SettingWithCopyWarning: \n",
      "A value is trying to be set on a copy of a slice from a DataFrame.\n",
      "Try using .loc[row_indexer,col_indexer] = value instead\n",
      "\n",
      "See the caveats in the documentation: https://pandas.pydata.org/pandas-docs/stable/user_guide/indexing.html#returning-a-view-versus-a-copy\n",
      "  df[trend] = df[\"Target\"].shift(1).rolling(horizon).sum()\n",
      "C:\\Users\\owen\\AppData\\Local\\Temp\\ipykernel_4976\\1596686111.py:8: SettingWithCopyWarning: \n",
      "A value is trying to be set on a copy of a slice from a DataFrame.\n",
      "Try using .loc[row_indexer,col_indexer] = value instead\n",
      "\n",
      "See the caveats in the documentation: https://pandas.pydata.org/pandas-docs/stable/user_guide/indexing.html#returning-a-view-versus-a-copy\n",
      "  df[ratio] = df[\"Close\"].shift(1) / rolling_averages[\"Close\"]\n",
      "C:\\Users\\owen\\AppData\\Local\\Temp\\ipykernel_4976\\1596686111.py:11: SettingWithCopyWarning: \n",
      "A value is trying to be set on a copy of a slice from a DataFrame.\n",
      "Try using .loc[row_indexer,col_indexer] = value instead\n",
      "\n",
      "See the caveats in the documentation: https://pandas.pydata.org/pandas-docs/stable/user_guide/indexing.html#returning-a-view-versus-a-copy\n",
      "  df[trend] = df[\"Target\"].shift(1).rolling(horizon).sum()\n",
      "C:\\Users\\owen\\AppData\\Local\\Temp\\ipykernel_4976\\1596686111.py:8: SettingWithCopyWarning: \n",
      "A value is trying to be set on a copy of a slice from a DataFrame.\n",
      "Try using .loc[row_indexer,col_indexer] = value instead\n",
      "\n",
      "See the caveats in the documentation: https://pandas.pydata.org/pandas-docs/stable/user_guide/indexing.html#returning-a-view-versus-a-copy\n",
      "  df[ratio] = df[\"Close\"].shift(1) / rolling_averages[\"Close\"]\n",
      "C:\\Users\\owen\\AppData\\Local\\Temp\\ipykernel_4976\\1596686111.py:11: SettingWithCopyWarning: \n",
      "A value is trying to be set on a copy of a slice from a DataFrame.\n",
      "Try using .loc[row_indexer,col_indexer] = value instead\n",
      "\n",
      "See the caveats in the documentation: https://pandas.pydata.org/pandas-docs/stable/user_guide/indexing.html#returning-a-view-versus-a-copy\n",
      "  df[trend] = df[\"Target\"].shift(1).rolling(horizon).sum()\n",
      "C:\\Users\\owen\\AppData\\Local\\Temp\\ipykernel_4976\\1596686111.py:8: SettingWithCopyWarning: \n",
      "A value is trying to be set on a copy of a slice from a DataFrame.\n",
      "Try using .loc[row_indexer,col_indexer] = value instead\n",
      "\n",
      "See the caveats in the documentation: https://pandas.pydata.org/pandas-docs/stable/user_guide/indexing.html#returning-a-view-versus-a-copy\n",
      "  df[ratio] = df[\"Close\"].shift(1) / rolling_averages[\"Close\"]\n",
      "C:\\Users\\owen\\AppData\\Local\\Temp\\ipykernel_4976\\1596686111.py:11: SettingWithCopyWarning: \n",
      "A value is trying to be set on a copy of a slice from a DataFrame.\n",
      "Try using .loc[row_indexer,col_indexer] = value instead\n",
      "\n",
      "See the caveats in the documentation: https://pandas.pydata.org/pandas-docs/stable/user_guide/indexing.html#returning-a-view-versus-a-copy\n",
      "  df[trend] = df[\"Target\"].shift(1).rolling(horizon).sum()\n"
     ]
    }
   ],
   "source": [
    "horizons = [2, 5, 60, 250, 1000]\n",
    "new_predictors = []\n",
    "\n",
    "for horizon in horizons:\n",
    "  rolling_averages = df.rolling(horizon).mean()\n",
    "\n",
    "  ratio = f\"Close_Ratio_{horizon}\"\n",
    "  df[ratio] = df[\"Close\"].shift(1) / rolling_averages[\"Close\"]\n",
    "\n",
    "  trend = f\"Trend_Ratio\"\n",
    "  df[trend] = df[\"Target\"].shift(1).rolling(horizon).sum()\n",
    "\n",
    "  new_predictors += [ratio, trend]"
   ]
  },
  {
   "cell_type": "code",
   "execution_count": 64,
   "metadata": {
    "colab": {
     "base_uri": "https://localhost:8080/",
     "height": 648
    },
    "executionInfo": {
     "elapsed": 322,
     "status": "ok",
     "timestamp": 1712503640622,
     "user": {
      "displayName": "Filbert Owen",
      "userId": "17546973617942714743"
     },
     "user_tz": -480
    },
    "id": "wztk3RvPJiLS",
    "outputId": "6e4a58de-27ba-4263-d02a-71084f6fb2e4",
    "scrolled": true
   },
   "outputs": [
    {
     "data": {
      "text/html": [
       "<div>\n",
       "<style scoped>\n",
       "    .dataframe tbody tr th:only-of-type {\n",
       "        vertical-align: middle;\n",
       "    }\n",
       "\n",
       "    .dataframe tbody tr th {\n",
       "        vertical-align: top;\n",
       "    }\n",
       "\n",
       "    .dataframe thead th {\n",
       "        text-align: right;\n",
       "    }\n",
       "</style>\n",
       "<table border=\"1\" class=\"dataframe\">\n",
       "  <thead>\n",
       "    <tr style=\"text-align: right;\">\n",
       "      <th></th>\n",
       "      <th>Open</th>\n",
       "      <th>High</th>\n",
       "      <th>Low</th>\n",
       "      <th>Close</th>\n",
       "      <th>Volume</th>\n",
       "      <th>Target-3</th>\n",
       "      <th>Target-2</th>\n",
       "      <th>Target-1</th>\n",
       "      <th>Target</th>\n",
       "      <th>Close_Ratio_2</th>\n",
       "      <th>Trend_Ratio</th>\n",
       "      <th>Close_Ratio_5</th>\n",
       "      <th>Close_Ratio_60</th>\n",
       "      <th>Close_Ratio_250</th>\n",
       "      <th>Close_Ratio_1000</th>\n",
       "    </tr>\n",
       "    <tr>\n",
       "      <th>Date</th>\n",
       "      <th></th>\n",
       "      <th></th>\n",
       "      <th></th>\n",
       "      <th></th>\n",
       "      <th></th>\n",
       "      <th></th>\n",
       "      <th></th>\n",
       "      <th></th>\n",
       "      <th></th>\n",
       "      <th></th>\n",
       "      <th></th>\n",
       "      <th></th>\n",
       "      <th></th>\n",
       "      <th></th>\n",
       "      <th></th>\n",
       "    </tr>\n",
       "  </thead>\n",
       "  <tbody>\n",
       "    <tr>\n",
       "      <th>2014-06-24</th>\n",
       "      <td>15.931333</td>\n",
       "      <td>16.125334</td>\n",
       "      <td>15.442000</td>\n",
       "      <td>15.500000</td>\n",
       "      <td>121138500</td>\n",
       "      <td>15.186000</td>\n",
       "      <td>15.306000</td>\n",
       "      <td>15.814667</td>\n",
       "      <td>0</td>\n",
       "      <td>1.010049</td>\n",
       "      <td>480.0</td>\n",
       "      <td>1.027620</td>\n",
       "      <td>1.144436</td>\n",
       "      <td>1.347767</td>\n",
       "      <td>3.473936</td>\n",
       "    </tr>\n",
       "    <tr>\n",
       "      <th>2014-06-25</th>\n",
       "      <td>15.536667</td>\n",
       "      <td>15.836667</td>\n",
       "      <td>15.349333</td>\n",
       "      <td>15.792667</td>\n",
       "      <td>87024000</td>\n",
       "      <td>15.306000</td>\n",
       "      <td>15.814667</td>\n",
       "      <td>15.500000</td>\n",
       "      <td>1</td>\n",
       "      <td>0.990647</td>\n",
       "      <td>480.0</td>\n",
       "      <td>0.998720</td>\n",
       "      <td>1.119106</td>\n",
       "      <td>1.317130</td>\n",
       "      <td>3.393842</td>\n",
       "    </tr>\n",
       "    <tr>\n",
       "      <th>2014-06-26</th>\n",
       "      <td>15.811333</td>\n",
       "      <td>16.026667</td>\n",
       "      <td>15.614000</td>\n",
       "      <td>15.706667</td>\n",
       "      <td>76821000</td>\n",
       "      <td>15.814667</td>\n",
       "      <td>15.500000</td>\n",
       "      <td>15.792667</td>\n",
       "      <td>0</td>\n",
       "      <td>1.002730</td>\n",
       "      <td>481.0</td>\n",
       "      <td>1.010795</td>\n",
       "      <td>1.138535</td>\n",
       "      <td>1.338111</td>\n",
       "      <td>3.446865</td>\n",
       "    </tr>\n",
       "    <tr>\n",
       "      <th>2014-06-27</th>\n",
       "      <td>15.646000</td>\n",
       "      <td>16.000000</td>\n",
       "      <td>15.633333</td>\n",
       "      <td>15.937333</td>\n",
       "      <td>84525000</td>\n",
       "      <td>15.500000</td>\n",
       "      <td>15.792667</td>\n",
       "      <td>15.706667</td>\n",
       "      <td>1</td>\n",
       "      <td>0.992711</td>\n",
       "      <td>481.0</td>\n",
       "      <td>0.997232</td>\n",
       "      <td>1.131540</td>\n",
       "      <td>1.327170</td>\n",
       "      <td>3.417076</td>\n",
       "    </tr>\n",
       "    <tr>\n",
       "      <th>2014-06-30</th>\n",
       "      <td>15.970000</td>\n",
       "      <td>16.299334</td>\n",
       "      <td>15.933333</td>\n",
       "      <td>16.004000</td>\n",
       "      <td>72429000</td>\n",
       "      <td>15.792667</td>\n",
       "      <td>15.706667</td>\n",
       "      <td>15.937333</td>\n",
       "      <td>1</td>\n",
       "      <td>0.997913</td>\n",
       "      <td>481.0</td>\n",
       "      <td>1.009450</td>\n",
       "      <td>1.146812</td>\n",
       "      <td>1.342961</td>\n",
       "      <td>3.456098</td>\n",
       "    </tr>\n",
       "    <tr>\n",
       "      <th>...</th>\n",
       "      <td>...</td>\n",
       "      <td>...</td>\n",
       "      <td>...</td>\n",
       "      <td>...</td>\n",
       "      <td>...</td>\n",
       "      <td>...</td>\n",
       "      <td>...</td>\n",
       "      <td>...</td>\n",
       "      <td>...</td>\n",
       "      <td>...</td>\n",
       "      <td>...</td>\n",
       "      <td>...</td>\n",
       "      <td>...</td>\n",
       "      <td>...</td>\n",
       "      <td>...</td>\n",
       "    </tr>\n",
       "    <tr>\n",
       "      <th>2024-05-29</th>\n",
       "      <td>174.190002</td>\n",
       "      <td>178.149994</td>\n",
       "      <td>173.929993</td>\n",
       "      <td>176.190002</td>\n",
       "      <td>54782600</td>\n",
       "      <td>173.740005</td>\n",
       "      <td>179.240005</td>\n",
       "      <td>176.750000</td>\n",
       "      <td>1</td>\n",
       "      <td>1.001587</td>\n",
       "      <td>502.0</td>\n",
       "      <td>0.997427</td>\n",
       "      <td>1.027228</td>\n",
       "      <td>0.797138</td>\n",
       "      <td>0.787068</td>\n",
       "    </tr>\n",
       "    <tr>\n",
       "      <th>2024-05-30</th>\n",
       "      <td>178.580002</td>\n",
       "      <td>182.669998</td>\n",
       "      <td>175.380005</td>\n",
       "      <td>178.789993</td>\n",
       "      <td>77784800</td>\n",
       "      <td>179.240005</td>\n",
       "      <td>176.750000</td>\n",
       "      <td>176.190002</td>\n",
       "      <td>1</td>\n",
       "      <td>0.992676</td>\n",
       "      <td>502.0</td>\n",
       "      <td>0.995750</td>\n",
       "      <td>1.024167</td>\n",
       "      <td>0.795024</td>\n",
       "      <td>0.784169</td>\n",
       "    </tr>\n",
       "    <tr>\n",
       "      <th>2024-05-31</th>\n",
       "      <td>178.500000</td>\n",
       "      <td>180.320007</td>\n",
       "      <td>173.820007</td>\n",
       "      <td>178.080002</td>\n",
       "      <td>67314600</td>\n",
       "      <td>176.750000</td>\n",
       "      <td>176.190002</td>\n",
       "      <td>178.789993</td>\n",
       "      <td>0</td>\n",
       "      <td>1.001989</td>\n",
       "      <td>502.0</td>\n",
       "      <td>1.005511</td>\n",
       "      <td>1.039125</td>\n",
       "      <td>0.807279</td>\n",
       "      <td>0.795352</td>\n",
       "    </tr>\n",
       "    <tr>\n",
       "      <th>2024-06-03</th>\n",
       "      <td>178.130005</td>\n",
       "      <td>182.639999</td>\n",
       "      <td>174.490005</td>\n",
       "      <td>176.289993</td>\n",
       "      <td>68568900</td>\n",
       "      <td>176.190002</td>\n",
       "      <td>178.789993</td>\n",
       "      <td>178.080002</td>\n",
       "      <td>0</td>\n",
       "      <td>1.005051</td>\n",
       "      <td>501.0</td>\n",
       "      <td>1.004853</td>\n",
       "      <td>1.035235</td>\n",
       "      <td>0.804674</td>\n",
       "      <td>0.791801</td>\n",
       "    </tr>\n",
       "    <tr>\n",
       "      <th>2024-06-04</th>\n",
       "      <td>174.779999</td>\n",
       "      <td>177.759995</td>\n",
       "      <td>174.000000</td>\n",
       "      <td>174.770004</td>\n",
       "      <td>59733200</td>\n",
       "      <td>178.789993</td>\n",
       "      <td>178.080002</td>\n",
       "      <td>176.289993</td>\n",
       "      <td>0</td>\n",
       "      <td>1.004330</td>\n",
       "      <td>501.0</td>\n",
       "      <td>0.996980</td>\n",
       "      <td>1.024886</td>\n",
       "      <td>0.797256</td>\n",
       "      <td>0.783450</td>\n",
       "    </tr>\n",
       "  </tbody>\n",
       "</table>\n",
       "<p>2504 rows × 15 columns</p>\n",
       "</div>"
      ],
      "text/plain": [
       "                  Open        High         Low       Close     Volume  \\\n",
       "Date                                                                    \n",
       "2014-06-24   15.931333   16.125334   15.442000   15.500000  121138500   \n",
       "2014-06-25   15.536667   15.836667   15.349333   15.792667   87024000   \n",
       "2014-06-26   15.811333   16.026667   15.614000   15.706667   76821000   \n",
       "2014-06-27   15.646000   16.000000   15.633333   15.937333   84525000   \n",
       "2014-06-30   15.970000   16.299334   15.933333   16.004000   72429000   \n",
       "...                ...         ...         ...         ...        ...   \n",
       "2024-05-29  174.190002  178.149994  173.929993  176.190002   54782600   \n",
       "2024-05-30  178.580002  182.669998  175.380005  178.789993   77784800   \n",
       "2024-05-31  178.500000  180.320007  173.820007  178.080002   67314600   \n",
       "2024-06-03  178.130005  182.639999  174.490005  176.289993   68568900   \n",
       "2024-06-04  174.779999  177.759995  174.000000  174.770004   59733200   \n",
       "\n",
       "              Target-3    Target-2    Target-1  Target  Close_Ratio_2  \\\n",
       "Date                                                                    \n",
       "2014-06-24   15.186000   15.306000   15.814667       0       1.010049   \n",
       "2014-06-25   15.306000   15.814667   15.500000       1       0.990647   \n",
       "2014-06-26   15.814667   15.500000   15.792667       0       1.002730   \n",
       "2014-06-27   15.500000   15.792667   15.706667       1       0.992711   \n",
       "2014-06-30   15.792667   15.706667   15.937333       1       0.997913   \n",
       "...                ...         ...         ...     ...            ...   \n",
       "2024-05-29  173.740005  179.240005  176.750000       1       1.001587   \n",
       "2024-05-30  179.240005  176.750000  176.190002       1       0.992676   \n",
       "2024-05-31  176.750000  176.190002  178.789993       0       1.001989   \n",
       "2024-06-03  176.190002  178.789993  178.080002       0       1.005051   \n",
       "2024-06-04  178.789993  178.080002  176.289993       0       1.004330   \n",
       "\n",
       "            Trend_Ratio  Close_Ratio_5  Close_Ratio_60  Close_Ratio_250  \\\n",
       "Date                                                                      \n",
       "2014-06-24        480.0       1.027620        1.144436         1.347767   \n",
       "2014-06-25        480.0       0.998720        1.119106         1.317130   \n",
       "2014-06-26        481.0       1.010795        1.138535         1.338111   \n",
       "2014-06-27        481.0       0.997232        1.131540         1.327170   \n",
       "2014-06-30        481.0       1.009450        1.146812         1.342961   \n",
       "...                 ...            ...             ...              ...   \n",
       "2024-05-29        502.0       0.997427        1.027228         0.797138   \n",
       "2024-05-30        502.0       0.995750        1.024167         0.795024   \n",
       "2024-05-31        502.0       1.005511        1.039125         0.807279   \n",
       "2024-06-03        501.0       1.004853        1.035235         0.804674   \n",
       "2024-06-04        501.0       0.996980        1.024886         0.797256   \n",
       "\n",
       "            Close_Ratio_1000  \n",
       "Date                          \n",
       "2014-06-24          3.473936  \n",
       "2014-06-25          3.393842  \n",
       "2014-06-26          3.446865  \n",
       "2014-06-27          3.417076  \n",
       "2014-06-30          3.456098  \n",
       "...                      ...  \n",
       "2024-05-29          0.787068  \n",
       "2024-05-30          0.784169  \n",
       "2024-05-31          0.795352  \n",
       "2024-06-03          0.791801  \n",
       "2024-06-04          0.783450  \n",
       "\n",
       "[2504 rows x 15 columns]"
      ]
     },
     "execution_count": 64,
     "metadata": {},
     "output_type": "execute_result"
    }
   ],
   "source": [
    "df = df.dropna()\n",
    "df"
   ]
  },
  {
   "cell_type": "code",
   "execution_count": 65,
   "metadata": {
    "id": "412KCj7XJULI"
   },
   "outputs": [],
   "source": [
    "def predict(train, test, predictors, model):\n",
    "  model.fit(train[predictors], train[\"Target\"])\n",
    "  preds = model.predict_proba(test[predictors])[:,1] # Predict_proba returns the probability of it being a 1 or 0\n",
    "  preds[preds >= .6] = 1\n",
    "  preds[preds < .6] = 0\n",
    "  preds = pd.Series(preds, index = test.index, name = \"Predictions\")\n",
    "  combined = pd.concat([test[\"Target\"], preds], axis = 1)\n",
    "  return combined"
   ]
  },
  {
   "cell_type": "code",
   "execution_count": 66,
   "metadata": {
    "id": "Pcmqr4lPJV5j"
   },
   "outputs": [],
   "source": [
    "def backtesting(data, model, predictors, start = 1250, step = 250):\n",
    "  all_preds = []\n",
    "\n",
    "  for i in range(start, data.shape[0], step):\n",
    "    train = data.iloc[0:i].copy()\n",
    "    test = data.iloc[i:(i+step)].copy()\n",
    "    all = predict(train, test, predictors, model)\n",
    "    all_preds.append(all)\n",
    "\n",
    "  return pd.concat(all_preds)"
   ]
  },
  {
   "cell_type": "code",
   "execution_count": 67,
   "metadata": {
    "id": "xcW96MZRJvSM"
   },
   "outputs": [],
   "source": [
    "RFC_model = RandomForestClassifier(n_estimators = 200, min_samples_split = 50, random_state = 1)"
   ]
  },
  {
   "cell_type": "code",
   "execution_count": 68,
   "metadata": {
    "id": "5C8Tx1ANJwji"
   },
   "outputs": [],
   "source": [
    "predictions = backtesting(df, RFC_model, new_predictors)"
   ]
  },
  {
   "cell_type": "code",
   "execution_count": 69,
   "metadata": {
    "colab": {
     "base_uri": "https://localhost:8080/"
    },
    "executionInfo": {
     "elapsed": 4,
     "status": "ok",
     "timestamp": 1712503657024,
     "user": {
      "displayName": "Filbert Owen",
      "userId": "17546973617942714743"
     },
     "user_tz": -480
    },
    "id": "v95GIQoiJ6CY",
    "outputId": "dd34986e-c60a-4edd-8347-8b44c6ea700e"
   },
   "outputs": [
    {
     "data": {
      "text/plain": [
       "Predictions\n",
       "0.0    787\n",
       "1.0    467\n",
       "Name: count, dtype: int64"
      ]
     },
     "execution_count": 69,
     "metadata": {},
     "output_type": "execute_result"
    }
   ],
   "source": [
    "predictions[\"Predictions\"].value_counts()"
   ]
  },
  {
   "cell_type": "code",
   "execution_count": 70,
   "metadata": {
    "colab": {
     "base_uri": "https://localhost:8080/",
     "height": 455
    },
    "executionInfo": {
     "elapsed": 338,
     "status": "ok",
     "timestamp": 1712503657360,
     "user": {
      "displayName": "Filbert Owen",
      "userId": "17546973617942714743"
     },
     "user_tz": -480
    },
    "id": "I0YShTmCK_AW",
    "outputId": "1999e3cd-4fb1-4a88-f5c1-78bdeebc44a1",
    "scrolled": true
   },
   "outputs": [
    {
     "data": {
      "text/html": [
       "<div>\n",
       "<style scoped>\n",
       "    .dataframe tbody tr th:only-of-type {\n",
       "        vertical-align: middle;\n",
       "    }\n",
       "\n",
       "    .dataframe tbody tr th {\n",
       "        vertical-align: top;\n",
       "    }\n",
       "\n",
       "    .dataframe thead th {\n",
       "        text-align: right;\n",
       "    }\n",
       "</style>\n",
       "<table border=\"1\" class=\"dataframe\">\n",
       "  <thead>\n",
       "    <tr style=\"text-align: right;\">\n",
       "      <th></th>\n",
       "      <th>Target</th>\n",
       "      <th>Predictions</th>\n",
       "    </tr>\n",
       "    <tr>\n",
       "      <th>Date</th>\n",
       "      <th></th>\n",
       "      <th></th>\n",
       "    </tr>\n",
       "  </thead>\n",
       "  <tbody>\n",
       "    <tr>\n",
       "      <th>2019-06-12</th>\n",
       "      <td>0</td>\n",
       "      <td>0.0</td>\n",
       "    </tr>\n",
       "    <tr>\n",
       "      <th>2019-06-13</th>\n",
       "      <td>1</td>\n",
       "      <td>1.0</td>\n",
       "    </tr>\n",
       "    <tr>\n",
       "      <th>2019-06-14</th>\n",
       "      <td>1</td>\n",
       "      <td>1.0</td>\n",
       "    </tr>\n",
       "    <tr>\n",
       "      <th>2019-06-17</th>\n",
       "      <td>1</td>\n",
       "      <td>1.0</td>\n",
       "    </tr>\n",
       "    <tr>\n",
       "      <th>2019-06-18</th>\n",
       "      <td>0</td>\n",
       "      <td>0.0</td>\n",
       "    </tr>\n",
       "    <tr>\n",
       "      <th>...</th>\n",
       "      <td>...</td>\n",
       "      <td>...</td>\n",
       "    </tr>\n",
       "    <tr>\n",
       "      <th>2024-05-29</th>\n",
       "      <td>1</td>\n",
       "      <td>0.0</td>\n",
       "    </tr>\n",
       "    <tr>\n",
       "      <th>2024-05-30</th>\n",
       "      <td>1</td>\n",
       "      <td>1.0</td>\n",
       "    </tr>\n",
       "    <tr>\n",
       "      <th>2024-05-31</th>\n",
       "      <td>0</td>\n",
       "      <td>0.0</td>\n",
       "    </tr>\n",
       "    <tr>\n",
       "      <th>2024-06-03</th>\n",
       "      <td>0</td>\n",
       "      <td>0.0</td>\n",
       "    </tr>\n",
       "    <tr>\n",
       "      <th>2024-06-04</th>\n",
       "      <td>0</td>\n",
       "      <td>0.0</td>\n",
       "    </tr>\n",
       "  </tbody>\n",
       "</table>\n",
       "<p>1254 rows × 2 columns</p>\n",
       "</div>"
      ],
      "text/plain": [
       "            Target  Predictions\n",
       "Date                           \n",
       "2019-06-12       0          0.0\n",
       "2019-06-13       1          1.0\n",
       "2019-06-14       1          1.0\n",
       "2019-06-17       1          1.0\n",
       "2019-06-18       0          0.0\n",
       "...            ...          ...\n",
       "2024-05-29       1          0.0\n",
       "2024-05-30       1          1.0\n",
       "2024-05-31       0          0.0\n",
       "2024-06-03       0          0.0\n",
       "2024-06-04       0          0.0\n",
       "\n",
       "[1254 rows x 2 columns]"
      ]
     },
     "execution_count": 70,
     "metadata": {},
     "output_type": "execute_result"
    }
   ],
   "source": [
    "predictions"
   ]
  },
  {
   "cell_type": "code",
   "execution_count": 71,
   "metadata": {
    "colab": {
     "base_uri": "https://localhost:8080/"
    },
    "executionInfo": {
     "elapsed": 8,
     "status": "ok",
     "timestamp": 1712503657361,
     "user": {
      "displayName": "Filbert Owen",
      "userId": "17546973617942714743"
     },
     "user_tz": -480
    },
    "id": "2DdvJixBJ7p0",
    "outputId": "76a04212-01a2-4658-d20f-96664fa778ea"
   },
   "outputs": [
    {
     "name": "stdout",
     "output_type": "stream",
     "text": [
      "              precision    recall  f1-score   support\n",
      "\n",
      "           0       0.69      0.89      0.78       615\n",
      "           1       0.85      0.62      0.72       639\n",
      "\n",
      "    accuracy                           0.75      1254\n",
      "   macro avg       0.77      0.75      0.75      1254\n",
      "weighted avg       0.77      0.75      0.75      1254\n",
      "\n"
     ]
    }
   ],
   "source": [
    "print(classification_report(predictions[\"Target\"], predictions[\"Predictions\"]))"
   ]
  },
  {
   "cell_type": "code",
   "execution_count": 74,
   "metadata": {
    "colab": {
     "base_uri": "https://localhost:8080/"
    },
    "executionInfo": {
     "elapsed": 7,
     "status": "ok",
     "timestamp": 1712503657361,
     "user": {
      "displayName": "Filbert Owen",
      "userId": "17546973617942714743"
     },
     "user_tz": -480
    },
    "id": "jdDbV-RSJ-bS",
    "outputId": "1c3b9fdd-1a9c-4dc0-fcb7-a6dfeba2d237"
   },
   "outputs": [
    {
     "name": "stdout",
     "output_type": "stream",
     "text": [
      "Tomorrow's price is predicted to go down.\n"
     ]
    }
   ],
   "source": [
    "tomorrow_data = df.iloc[[-1]]\n",
    "tomorrow_prediction = RFC_model.predict(tomorrow_data[new_predictors])\n",
    "if tomorrow_prediction == 1:\n",
    "    print(\"Tomorrow's price is predicted to go up.\")f\n",
    "else:\n",
    "    print(\"Tomorrow's price is predicted to go down.\")"
   ]
  }
 ],
 "metadata": {
  "colab": {
   "authorship_tag": "ABX9TyOGoUt7zesLKNt9kSNGojMD",
   "provenance": []
  },
  "kernelspec": {
   "display_name": "Python 3",
   "language": "python",
   "name": "python3"
  },
  "language_info": {
   "codemirror_mode": {
    "name": "ipython",
    "version": 3
   },
   "file_extension": ".py",
   "mimetype": "text/x-python",
   "name": "python",
   "nbconvert_exporter": "python",
   "pygments_lexer": "ipython3",
   "version": "3.11.7"
  }
 },
 "nbformat": 4,
 "nbformat_minor": 1
}
